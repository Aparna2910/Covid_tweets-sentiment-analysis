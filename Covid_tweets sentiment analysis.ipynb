{
 "cells": [
  {
   "cell_type": "code",
   "execution_count": 81,
   "metadata": {},
   "outputs": [],
   "source": [
    "#Import Libraries\n",
    "import os\n",
    "import numpy as np \n",
    "import pandas as pd\n",
    "import seaborn as sns\n",
    "import matplotlib.pyplot as plt\n",
    "import nltk\n",
    "from nltk.corpus import stopwords\n",
    "import string\n",
    "import datetime\n",
    "from datetime import datetime\n",
    "import re\n",
    "from nltk.sentiment.vader import SentimentIntensityAnalyzer\n",
    "import random\n"
   ]
  },
  {
   "cell_type": "code",
   "execution_count": 82,
   "metadata": {},
   "outputs": [
    {
     "name": "stdout",
     "output_type": "stream",
     "text": [
      "                        user_name         user_location  \\\n",
      "0                          ᏉᎥ☻լꂅϮ            astroworld   \n",
      "1                   Tom Basile 🇺🇸          New York, NY   \n",
      "2                 Time4fisticuffs      Pewee Valley, KY   \n",
      "3                     ethel mertz  Stuck in the Middle    \n",
      "4                        DIPR-J&K     Jammu and Kashmir   \n",
      "...                           ...                   ...   \n",
      "97705               Paul Kneeshaw              Canberra   \n",
      "97706    Mary Loedding Sells 🇺🇸🇮🇱                Alaska   \n",
      "97707        💯🌊PJT #TurnTexasBlue         United States   \n",
      "97708  Prawin #StayHome #Staysafe      Hyderabad, India   \n",
      "97709                Heart & Soul                   NaN   \n",
      "\n",
      "                                        user_description     user_created  \\\n",
      "0      wednesday addams as a disney princess keepin i...   5/26/2017 5:46   \n",
      "1      Husband, Father, Columnist & Commentator. Auth...  4/16/2009 20:06   \n",
      "2      #Christian #Catholic #Conservative #Reagan #Re...  2/28/2009 18:57   \n",
      "3      #Browns #Indians #ClevelandProud #[]_[] #Cavs ...    3/7/2019 1:45   \n",
      "4      🖊️Official Twitter handle of Department of Inf...   2/12/2017 6:45   \n",
      "...                                                  ...              ...   \n",
      "97705  Editor ABC TV Canberra; love sports esp cricke...  11/18/2015 5:56   \n",
      "97706  Born & raised in Pittsburgh Alaska is home now...    5/3/2009 8:05   \n",
      "97707  🌊🌊Ride🌊🌊The🌊🌊Blue🌊🌊Wave 💙 💙💙#Resistance #Blue2...   4/6/2020 16:12   \n",
      "97708                                  keep smiling ♌️♐️  9/26/2017 11:38   \n",
      "97709      Fun, loving, warm, and likes to keep it real.  7/22/2013 17:50   \n",
      "\n",
      "       user_followers  user_friends  user_favourites  user_verified  \\\n",
      "0                 624           950            18775          False   \n",
      "1                2253          1677               24           True   \n",
      "2                9275          9525             7254          False   \n",
      "3                 197           987             1488          False   \n",
      "4              101009           168              101          False   \n",
      "...               ...           ...              ...            ...   \n",
      "97705             405          1351            10892          False   \n",
      "97706            1820          2626            19572          False   \n",
      "97707            2854          3846             1514          False   \n",
      "97708              11            67              535          False   \n",
      "97709             268            74            42685          False   \n",
      "\n",
      "                  date                                               text  \\\n",
      "0      7/25/2020 12:27  If I smelled the scent of hand sanitizers toda...   \n",
      "1      7/25/2020 12:27  Hey @Yankees @YankeesPR and @MLB - wouldn't it...   \n",
      "2      7/25/2020 12:27  @diane3443 @wdunlap @realDonaldTrump Trump nev...   \n",
      "3      7/25/2020 12:27  @brookbanktv The one gift #COVID19 has give me...   \n",
      "4      7/25/2020 12:27  25 July : Media Bulletin on Novel #CoronaVirus...   \n",
      "...                ...                                                ...   \n",
      "97705    8/9/2020 3:05  @blahblahellis @plalor and I'm pretty sure the...   \n",
      "97706    8/9/2020 3:05          @DBTayor It's obvious he died of #Covid19   \n",
      "97707    8/9/2020 3:05  The world in which we now live. #TrumpThreaten...   \n",
      "97708    8/9/2020 3:05  Fire broke out at Swarnalatha Palace at #Chall...   \n",
      "97709    8/9/2020 3:05  #Who? Somebody plz call this #Woman or speak t...   \n",
      "\n",
      "                                                hashtags               source  \\\n",
      "0                                                    NaN   Twitter for iPhone   \n",
      "1                                                    NaN  Twitter for Android   \n",
      "2                                            ['COVID19']  Twitter for Android   \n",
      "3                                            ['COVID19']   Twitter for iPhone   \n",
      "4                      ['CoronaVirusUpdates', 'COVID19']  Twitter for Android   \n",
      "...                                                  ...                  ...   \n",
      "97705                                                NaN      Twitter Web App   \n",
      "97706                                        ['Covid19']      Twitter Web App   \n",
      "97707  ['TrumpThreatensAmerica', 'COVID19', 'TrumpKil...      Twitter Web App   \n",
      "97708          ['Challapalli', 'Eluru', 'AndhraPradesh']  Twitter for Android   \n",
      "97709                 ['Who', 'Woman', 'US', 'pandemic']  Twitter for Android   \n",
      "\n",
      "       is_retweet  \n",
      "0           False  \n",
      "1           False  \n",
      "2           False  \n",
      "3           False  \n",
      "4           False  \n",
      "...           ...  \n",
      "97705       False  \n",
      "97706       False  \n",
      "97707       False  \n",
      "97708       False  \n",
      "97709       False  \n",
      "\n",
      "[97710 rows x 13 columns]\n"
     ]
    }
   ],
   "source": [
    "#Load the Dataset\n",
    "Covid_tweets=pd.read_csv('C:\\\\Users\\\\Aparna Singh\\\\Desktop\\\\COVID\\\\covid19_tweets.csv')\n",
    "print(Covid_tweets)"
   ]
  },
  {
   "cell_type": "code",
   "execution_count": 83,
   "metadata": {},
   "outputs": [
    {
     "data": {
      "text/plain": [
       "<bound method NDFrame.describe of                         user_name         user_location  \\\n",
       "0                          ᏉᎥ☻լꂅϮ            astroworld   \n",
       "1                   Tom Basile 🇺🇸          New York, NY   \n",
       "2                 Time4fisticuffs      Pewee Valley, KY   \n",
       "3                     ethel mertz  Stuck in the Middle    \n",
       "4                        DIPR-J&K     Jammu and Kashmir   \n",
       "...                           ...                   ...   \n",
       "97705               Paul Kneeshaw              Canberra   \n",
       "97706    Mary Loedding Sells 🇺🇸🇮🇱                Alaska   \n",
       "97707        💯🌊PJT #TurnTexasBlue         United States   \n",
       "97708  Prawin #StayHome #Staysafe      Hyderabad, India   \n",
       "97709                Heart & Soul                   NaN   \n",
       "\n",
       "                                        user_description     user_created  \\\n",
       "0      wednesday addams as a disney princess keepin i...   5/26/2017 5:46   \n",
       "1      Husband, Father, Columnist & Commentator. Auth...  4/16/2009 20:06   \n",
       "2      #Christian #Catholic #Conservative #Reagan #Re...  2/28/2009 18:57   \n",
       "3      #Browns #Indians #ClevelandProud #[]_[] #Cavs ...    3/7/2019 1:45   \n",
       "4      🖊️Official Twitter handle of Department of Inf...   2/12/2017 6:45   \n",
       "...                                                  ...              ...   \n",
       "97705  Editor ABC TV Canberra; love sports esp cricke...  11/18/2015 5:56   \n",
       "97706  Born & raised in Pittsburgh Alaska is home now...    5/3/2009 8:05   \n",
       "97707  🌊🌊Ride🌊🌊The🌊🌊Blue🌊🌊Wave 💙 💙💙#Resistance #Blue2...   4/6/2020 16:12   \n",
       "97708                                  keep smiling ♌️♐️  9/26/2017 11:38   \n",
       "97709      Fun, loving, warm, and likes to keep it real.  7/22/2013 17:50   \n",
       "\n",
       "       user_followers  user_friends  user_favourites  user_verified  \\\n",
       "0                 624           950            18775          False   \n",
       "1                2253          1677               24           True   \n",
       "2                9275          9525             7254          False   \n",
       "3                 197           987             1488          False   \n",
       "4              101009           168              101          False   \n",
       "...               ...           ...              ...            ...   \n",
       "97705             405          1351            10892          False   \n",
       "97706            1820          2626            19572          False   \n",
       "97707            2854          3846             1514          False   \n",
       "97708              11            67              535          False   \n",
       "97709             268            74            42685          False   \n",
       "\n",
       "                  date                                               text  \\\n",
       "0      7/25/2020 12:27  If I smelled the scent of hand sanitizers toda...   \n",
       "1      7/25/2020 12:27  Hey @Yankees @YankeesPR and @MLB - wouldn't it...   \n",
       "2      7/25/2020 12:27  @diane3443 @wdunlap @realDonaldTrump Trump nev...   \n",
       "3      7/25/2020 12:27  @brookbanktv The one gift #COVID19 has give me...   \n",
       "4      7/25/2020 12:27  25 July : Media Bulletin on Novel #CoronaVirus...   \n",
       "...                ...                                                ...   \n",
       "97705    8/9/2020 3:05  @blahblahellis @plalor and I'm pretty sure the...   \n",
       "97706    8/9/2020 3:05          @DBTayor It's obvious he died of #Covid19   \n",
       "97707    8/9/2020 3:05  The world in which we now live. #TrumpThreaten...   \n",
       "97708    8/9/2020 3:05  Fire broke out at Swarnalatha Palace at #Chall...   \n",
       "97709    8/9/2020 3:05  #Who? Somebody plz call this #Woman or speak t...   \n",
       "\n",
       "                                                hashtags               source  \\\n",
       "0                                                    NaN   Twitter for iPhone   \n",
       "1                                                    NaN  Twitter for Android   \n",
       "2                                            ['COVID19']  Twitter for Android   \n",
       "3                                            ['COVID19']   Twitter for iPhone   \n",
       "4                      ['CoronaVirusUpdates', 'COVID19']  Twitter for Android   \n",
       "...                                                  ...                  ...   \n",
       "97705                                                NaN      Twitter Web App   \n",
       "97706                                        ['Covid19']      Twitter Web App   \n",
       "97707  ['TrumpThreatensAmerica', 'COVID19', 'TrumpKil...      Twitter Web App   \n",
       "97708          ['Challapalli', 'Eluru', 'AndhraPradesh']  Twitter for Android   \n",
       "97709                 ['Who', 'Woman', 'US', 'pandemic']  Twitter for Android   \n",
       "\n",
       "       is_retweet  \n",
       "0           False  \n",
       "1           False  \n",
       "2           False  \n",
       "3           False  \n",
       "4           False  \n",
       "...           ...  \n",
       "97705       False  \n",
       "97706       False  \n",
       "97707       False  \n",
       "97708       False  \n",
       "97709       False  \n",
       "\n",
       "[97710 rows x 13 columns]>"
      ]
     },
     "execution_count": 83,
     "metadata": {},
     "output_type": "execute_result"
    }
   ],
   "source": [
    "#Basic info\n",
    "Covid_tweets.describe"
   ]
  },
  {
   "cell_type": "code",
   "execution_count": 19,
   "metadata": {},
   "outputs": [
    {
     "data": {
      "text/plain": [
       "Index(['user_name', 'user_location', 'user_description', 'user_created',\n",
       "       'user_followers', 'user_friends', 'user_favourites', 'user_verified',\n",
       "       'date', 'text', 'hashtags', 'source', 'is_retweet'],\n",
       "      dtype='object')"
      ]
     },
     "execution_count": 19,
     "metadata": {},
     "output_type": "execute_result"
    }
   ],
   "source": [
    "Covid_tweets.columns"
   ]
  },
  {
   "cell_type": "code",
   "execution_count": 21,
   "metadata": {},
   "outputs": [
    {
     "data": {
      "text/html": [
       "<div>\n",
       "<style scoped>\n",
       "    .dataframe tbody tr th:only-of-type {\n",
       "        vertical-align: middle;\n",
       "    }\n",
       "\n",
       "    .dataframe tbody tr th {\n",
       "        vertical-align: top;\n",
       "    }\n",
       "\n",
       "    .dataframe thead th {\n",
       "        text-align: right;\n",
       "    }\n",
       "</style>\n",
       "<table border=\"1\" class=\"dataframe\">\n",
       "  <thead>\n",
       "    <tr style=\"text-align: right;\">\n",
       "      <th></th>\n",
       "      <th>user_name</th>\n",
       "      <th>user_location</th>\n",
       "      <th>user_description</th>\n",
       "      <th>user_created</th>\n",
       "      <th>user_followers</th>\n",
       "      <th>user_friends</th>\n",
       "      <th>user_favourites</th>\n",
       "      <th>user_verified</th>\n",
       "      <th>date</th>\n",
       "      <th>text</th>\n",
       "      <th>hashtags</th>\n",
       "      <th>source</th>\n",
       "      <th>is_retweet</th>\n",
       "    </tr>\n",
       "  </thead>\n",
       "  <tbody>\n",
       "    <tr>\n",
       "      <th>0</th>\n",
       "      <td>ᏉᎥ☻լꂅϮ</td>\n",
       "      <td>astroworld</td>\n",
       "      <td>wednesday addams as a disney princess keepin i...</td>\n",
       "      <td>2017-05-26 05:46:42</td>\n",
       "      <td>624</td>\n",
       "      <td>950</td>\n",
       "      <td>18775</td>\n",
       "      <td>False</td>\n",
       "      <td>2020-07-25 12:27:21</td>\n",
       "      <td>If I smelled the scent of hand sanitizers toda...</td>\n",
       "      <td>NaN</td>\n",
       "      <td>Twitter for iPhone</td>\n",
       "      <td>False</td>\n",
       "    </tr>\n",
       "    <tr>\n",
       "      <th>1</th>\n",
       "      <td>Tom Basile 🇺🇸</td>\n",
       "      <td>New York, NY</td>\n",
       "      <td>Husband, Father, Columnist &amp; Commentator. Auth...</td>\n",
       "      <td>2009-04-16 20:06:23</td>\n",
       "      <td>2253</td>\n",
       "      <td>1677</td>\n",
       "      <td>24</td>\n",
       "      <td>True</td>\n",
       "      <td>2020-07-25 12:27:17</td>\n",
       "      <td>Hey @Yankees @YankeesPR and @MLB - wouldn't it...</td>\n",
       "      <td>NaN</td>\n",
       "      <td>Twitter for Android</td>\n",
       "      <td>False</td>\n",
       "    </tr>\n",
       "    <tr>\n",
       "      <th>2</th>\n",
       "      <td>Time4fisticuffs</td>\n",
       "      <td>Pewee Valley, KY</td>\n",
       "      <td>#Christian #Catholic #Conservative #Reagan #Re...</td>\n",
       "      <td>2009-02-28 18:57:41</td>\n",
       "      <td>9275</td>\n",
       "      <td>9525</td>\n",
       "      <td>7254</td>\n",
       "      <td>False</td>\n",
       "      <td>2020-07-25 12:27:14</td>\n",
       "      <td>@diane3443 @wdunlap @realDonaldTrump Trump nev...</td>\n",
       "      <td>['COVID19']</td>\n",
       "      <td>Twitter for Android</td>\n",
       "      <td>False</td>\n",
       "    </tr>\n",
       "    <tr>\n",
       "      <th>3</th>\n",
       "      <td>ethel mertz</td>\n",
       "      <td>Stuck in the Middle</td>\n",
       "      <td>#Browns #Indians #ClevelandProud #[]_[] #Cavs ...</td>\n",
       "      <td>2019-03-07 01:45:06</td>\n",
       "      <td>197</td>\n",
       "      <td>987</td>\n",
       "      <td>1488</td>\n",
       "      <td>False</td>\n",
       "      <td>2020-07-25 12:27:10</td>\n",
       "      <td>@brookbanktv The one gift #COVID19 has give me...</td>\n",
       "      <td>['COVID19']</td>\n",
       "      <td>Twitter for iPhone</td>\n",
       "      <td>False</td>\n",
       "    </tr>\n",
       "    <tr>\n",
       "      <th>4</th>\n",
       "      <td>DIPR-J&amp;K</td>\n",
       "      <td>Jammu and Kashmir</td>\n",
       "      <td>🖊️Official Twitter handle of Department of Inf...</td>\n",
       "      <td>2017-02-12 06:45:15</td>\n",
       "      <td>101009</td>\n",
       "      <td>168</td>\n",
       "      <td>101</td>\n",
       "      <td>False</td>\n",
       "      <td>2020-07-25 12:27:08</td>\n",
       "      <td>25 July : Media Bulletin on Novel #CoronaVirus...</td>\n",
       "      <td>['CoronaVirusUpdates', 'COVID19']</td>\n",
       "      <td>Twitter for Android</td>\n",
       "      <td>False</td>\n",
       "    </tr>\n",
       "    <tr>\n",
       "      <th>5</th>\n",
       "      <td>🎹 Franz Schubert</td>\n",
       "      <td>Новоро́ссия</td>\n",
       "      <td>🎼  #Новоро́ссия #Novorossiya #оставайсядома #S...</td>\n",
       "      <td>2018-03-19 16:29:52</td>\n",
       "      <td>1180</td>\n",
       "      <td>1071</td>\n",
       "      <td>1287</td>\n",
       "      <td>False</td>\n",
       "      <td>2020-07-25 12:27:06</td>\n",
       "      <td>#coronavirus #covid19 deaths continue to rise....</td>\n",
       "      <td>['coronavirus', 'covid19']</td>\n",
       "      <td>Twitter Web App</td>\n",
       "      <td>False</td>\n",
       "    </tr>\n",
       "  </tbody>\n",
       "</table>\n",
       "</div>"
      ],
      "text/plain": [
       "          user_name         user_location  \\\n",
       "0            ᏉᎥ☻լꂅϮ            astroworld   \n",
       "1     Tom Basile 🇺🇸          New York, NY   \n",
       "2   Time4fisticuffs      Pewee Valley, KY   \n",
       "3       ethel mertz  Stuck in the Middle    \n",
       "4          DIPR-J&K     Jammu and Kashmir   \n",
       "5  🎹 Franz Schubert           Новоро́ссия   \n",
       "\n",
       "                                    user_description         user_created  \\\n",
       "0  wednesday addams as a disney princess keepin i...  2017-05-26 05:46:42   \n",
       "1  Husband, Father, Columnist & Commentator. Auth...  2009-04-16 20:06:23   \n",
       "2  #Christian #Catholic #Conservative #Reagan #Re...  2009-02-28 18:57:41   \n",
       "3  #Browns #Indians #ClevelandProud #[]_[] #Cavs ...  2019-03-07 01:45:06   \n",
       "4  🖊️Official Twitter handle of Department of Inf...  2017-02-12 06:45:15   \n",
       "5  🎼  #Новоро́ссия #Novorossiya #оставайсядома #S...  2018-03-19 16:29:52   \n",
       "\n",
       "   user_followers  user_friends  user_favourites  user_verified  \\\n",
       "0             624           950            18775          False   \n",
       "1            2253          1677               24           True   \n",
       "2            9275          9525             7254          False   \n",
       "3             197           987             1488          False   \n",
       "4          101009           168              101          False   \n",
       "5            1180          1071             1287          False   \n",
       "\n",
       "                  date                                               text  \\\n",
       "0  2020-07-25 12:27:21  If I smelled the scent of hand sanitizers toda...   \n",
       "1  2020-07-25 12:27:17  Hey @Yankees @YankeesPR and @MLB - wouldn't it...   \n",
       "2  2020-07-25 12:27:14  @diane3443 @wdunlap @realDonaldTrump Trump nev...   \n",
       "3  2020-07-25 12:27:10  @brookbanktv The one gift #COVID19 has give me...   \n",
       "4  2020-07-25 12:27:08  25 July : Media Bulletin on Novel #CoronaVirus...   \n",
       "5  2020-07-25 12:27:06  #coronavirus #covid19 deaths continue to rise....   \n",
       "\n",
       "                            hashtags               source  is_retweet  \n",
       "0                                NaN   Twitter for iPhone       False  \n",
       "1                                NaN  Twitter for Android       False  \n",
       "2                        ['COVID19']  Twitter for Android       False  \n",
       "3                        ['COVID19']   Twitter for iPhone       False  \n",
       "4  ['CoronaVirusUpdates', 'COVID19']  Twitter for Android       False  \n",
       "5         ['coronavirus', 'covid19']      Twitter Web App       False  "
      ]
     },
     "execution_count": 21,
     "metadata": {},
     "output_type": "execute_result"
    }
   ],
   "source": [
    "Covid_tweets.head(6)"
   ]
  },
  {
   "cell_type": "code",
   "execution_count": 22,
   "metadata": {},
   "outputs": [
    {
     "name": "stdout",
     "output_type": "stream",
     "text": [
      "Dataset dimension:\n",
      "(97710, 13)\n"
     ]
    }
   ],
   "source": [
    "#Data set dimensions\n",
    "print(f\"Dataset dimension:\\n{Covid_tweets.shape}\")"
   ]
  },
  {
   "cell_type": "code",
   "execution_count": 24,
   "metadata": {},
   "outputs": [
    {
     "name": "stdout",
     "output_type": "stream",
     "text": [
      "Percentage of missing values\n",
      "============================\n",
      "user_location has 20.294% of missing values\n",
      "user_description has 5.656% of missing values\n",
      "hashtags has 28.678% of missing values\n",
      "source has 0.027% of missing values\n"
     ]
    }
   ],
   "source": [
    "#check for missing values\n",
    "print(\"Percentage of missing values\")\n",
    "print(\"============================\")\n",
    "\n",
    "for var in Covid_tweets.columns:\n",
    "    if Covid_tweets[var].isna().sum() >0:\n",
    "        miss = np.round(Covid_tweets[var].isna().sum()/Covid_tweets.shape[0] * 100,3)\n",
    "        print(var, \"has {0}% of missing values\".format(miss))"
   ]
  },
  {
   "cell_type": "code",
   "execution_count": 26,
   "metadata": {},
   "outputs": [
    {
     "name": "stdout",
     "output_type": "stream",
     "text": [
      "<class 'pandas.core.frame.DataFrame'>\n",
      "RangeIndex: 97710 entries, 0 to 97709\n",
      "Data columns (total 13 columns):\n",
      " #   Column            Non-Null Count  Dtype \n",
      "---  ------            --------------  ----- \n",
      " 0   user_name         97710 non-null  object\n",
      " 1   user_location     77881 non-null  object\n",
      " 2   user_description  92184 non-null  object\n",
      " 3   user_created      97710 non-null  object\n",
      " 4   user_followers    97710 non-null  int64 \n",
      " 5   user_friends      97710 non-null  int64 \n",
      " 6   user_favourites   97710 non-null  int64 \n",
      " 7   user_verified     97710 non-null  bool  \n",
      " 8   date              97710 non-null  object\n",
      " 9   text              97710 non-null  object\n",
      " 10  hashtags          69689 non-null  object\n",
      " 11  source            97684 non-null  object\n",
      " 12  is_retweet        97710 non-null  bool  \n",
      "dtypes: bool(2), int64(3), object(8)\n",
      "memory usage: 8.4+ MB\n"
     ]
    }
   ],
   "source": [
    "Covid_tweets.info()"
   ]
  },
  {
   "cell_type": "code",
   "execution_count": 27,
   "metadata": {},
   "outputs": [
    {
     "data": {
      "text/html": [
       "<div>\n",
       "<style scoped>\n",
       "    .dataframe tbody tr th:only-of-type {\n",
       "        vertical-align: middle;\n",
       "    }\n",
       "\n",
       "    .dataframe tbody tr th {\n",
       "        vertical-align: top;\n",
       "    }\n",
       "\n",
       "    .dataframe thead th {\n",
       "        text-align: right;\n",
       "    }\n",
       "</style>\n",
       "<table border=\"1\" class=\"dataframe\">\n",
       "  <thead>\n",
       "    <tr style=\"text-align: right;\">\n",
       "      <th></th>\n",
       "      <th>user_followers</th>\n",
       "      <th>user_friends</th>\n",
       "      <th>user_favourites</th>\n",
       "    </tr>\n",
       "  </thead>\n",
       "  <tbody>\n",
       "    <tr>\n",
       "      <th>count</th>\n",
       "      <td>9.771000e+04</td>\n",
       "      <td>97710.000000</td>\n",
       "      <td>9.771000e+04</td>\n",
       "    </tr>\n",
       "    <tr>\n",
       "      <th>mean</th>\n",
       "      <td>1.045292e+05</td>\n",
       "      <td>2181.507256</td>\n",
       "      <td>1.509686e+04</td>\n",
       "    </tr>\n",
       "    <tr>\n",
       "      <th>std</th>\n",
       "      <td>8.141692e+05</td>\n",
       "      <td>9650.933428</td>\n",
       "      <td>4.589731e+04</td>\n",
       "    </tr>\n",
       "    <tr>\n",
       "      <th>min</th>\n",
       "      <td>0.000000e+00</td>\n",
       "      <td>0.000000</td>\n",
       "      <td>0.000000e+00</td>\n",
       "    </tr>\n",
       "    <tr>\n",
       "      <th>25%</th>\n",
       "      <td>1.700000e+02</td>\n",
       "      <td>154.000000</td>\n",
       "      <td>2.220000e+02</td>\n",
       "    </tr>\n",
       "    <tr>\n",
       "      <th>50%</th>\n",
       "      <td>9.800000e+02</td>\n",
       "      <td>552.000000</td>\n",
       "      <td>1.906000e+03</td>\n",
       "    </tr>\n",
       "    <tr>\n",
       "      <th>75%</th>\n",
       "      <td>5.240750e+03</td>\n",
       "      <td>1770.000000</td>\n",
       "      <td>9.981000e+03</td>\n",
       "    </tr>\n",
       "    <tr>\n",
       "      <th>max</th>\n",
       "      <td>1.389284e+07</td>\n",
       "      <td>497363.000000</td>\n",
       "      <td>2.047197e+06</td>\n",
       "    </tr>\n",
       "  </tbody>\n",
       "</table>\n",
       "</div>"
      ],
      "text/plain": [
       "       user_followers   user_friends  user_favourites\n",
       "count    9.771000e+04   97710.000000     9.771000e+04\n",
       "mean     1.045292e+05    2181.507256     1.509686e+04\n",
       "std      8.141692e+05    9650.933428     4.589731e+04\n",
       "min      0.000000e+00       0.000000     0.000000e+00\n",
       "25%      1.700000e+02     154.000000     2.220000e+02\n",
       "50%      9.800000e+02     552.000000     1.906000e+03\n",
       "75%      5.240750e+03    1770.000000     9.981000e+03\n",
       "max      1.389284e+07  497363.000000     2.047197e+06"
      ]
     },
     "execution_count": 27,
     "metadata": {},
     "output_type": "execute_result"
    }
   ],
   "source": [
    "Covid_tweets.describe()"
   ]
  },
  {
   "cell_type": "code",
   "execution_count": 28,
   "metadata": {},
   "outputs": [
    {
     "name": "stdout",
     "output_type": "stream",
     "text": [
      "No. Of Unique Locations: 17881\n"
     ]
    }
   ],
   "source": [
    "#Check for unique locations\n",
    "print(\"No. Of Unique Locations:\",Covid_tweets[\"user_location\"].nunique())"
   ]
  },
  {
   "cell_type": "code",
   "execution_count": 29,
   "metadata": {},
   "outputs": [
    {
     "data": {
      "image/png": "[encoded data removed]",
      "text/plain": [
       "<Figure size 504x288 with 1 Axes>"
      ]
     },
     "metadata": {
      "needs_background": "light"
     },
     "output_type": "display_data"
    }
   ],
   "source": [
    "# Distribution plot\n",
    "Covid_tweets[\"n_of_texts\"] = Covid_tweets[\"text\"].apply(lambda x: len(x))\n",
    "plt.figure(figsize=(7,4))\n",
    "sns.kdeplot(Covid_tweets[\"n_of_texts\"])\n",
    "plt.title(\"Distribution Plot\")\n",
    "plt.xlabel(\"No. Of Text\")\n",
    "plt.show()\n"
   ]
  },
  {
   "cell_type": "code",
   "execution_count": 33,
   "metadata": {},
   "outputs": [
    {
     "data": {
      "image/png": "[encoded data removed]",
      "text/plain": [
       "<Figure size 1440x864 with 1 Axes>"
      ]
     },
     "metadata": {
      "needs_background": "light"
     },
     "output_type": "display_data"
    }
   ],
   "source": [
    "#Check for location of most tweets\n",
    "plt.figure(figsize=(20,12))\n",
    "sns.barplot(Covid_tweets[\"user_location\"].value_counts().values[0:15],\n",
    "            Covid_tweets[\"user_location\"].value_counts().index[0:15]);\n",
    "plt.title(\"Top 20 Location\")\n",
    "plt.xlabel(\"No. of tweets\")\n",
    "plt.ylabel(\"Location\")\n",
    "plt.show()"
   ]
  },
  {
   "cell_type": "code",
   "execution_count": 36,
   "metadata": {},
   "outputs": [
    {
     "data": {
      "image/png": "[encoded data removed]",
      "text/plain": [
       "<Figure size 1440x720 with 1 Axes>"
      ]
     },
     "metadata": {
      "needs_background": "light"
     },
     "output_type": "display_data"
    }
   ],
   "source": [
    "#Top 10 locations for words\n",
    "\n",
    "plt.figure(figsize=(20,10))\n",
    "num_texts = pd.DataFrame()\n",
    "num_texts[\"user_location\"] = Covid_tweets[\"user_location\"]\n",
    "num_texts[\"n_of_texts\"] = Covid_tweets[\"n_of_texts\"]\n",
    "\n",
    "num_texts = num_texts.sort_values(by = \"n_of_texts\",ascending=False)\n",
    "num_texts = num_texts.groupby(\"user_location\").sum().sort_values(by = \"n_of_texts\",ascending=False)[:10]\n",
    "\n",
    "sns.barplot(list(num_texts.values.flatten()),num_texts.index,)\n",
    "plt.title(\"Top 20 Location By No. Of words\")\n",
    "plt.xlabel(\"No. Of Words\")\n",
    "plt.ylabel(\"Location\")\n",
    "plt.show()"
   ]
  },
  {
   "cell_type": "code",
   "execution_count": 68,
   "metadata": {},
   "outputs": [],
   "source": [
    "import string\n",
    "import datetime\n",
    "from datetime import datetime\n",
    "import re\n",
    "import nltk\n",
    "from nltk.sentiment.vader import SentimentIntensityAnalyzer\n",
    "\n",
    "#import spacy\n",
    "import random\n",
    "#from spacy.util import compounding\n",
    "#from spacy.util import minibatch\n"
   ]
  },
  {
   "cell_type": "code",
   "execution_count": 58,
   "metadata": {},
   "outputs": [],
   "source": [
    "# text preprocessing helper functions\n",
    "\n",
    "def clean_text(text):\n",
    "    '''Make text lowercase, remove text in square brackets,remove links,remove punctuation\n",
    "    and remove words containing numbers.'''\n",
    "    text = text.lower()\n",
    "    text = re.sub('\\[.*?\\]', '', text)\n",
    "    text = re.sub('https?://\\S+|www\\.\\S+', '', text)\n",
    "    text = re.sub('<.*?>+', '', text)\n",
    "    text = re.sub('[%s]' % re.escape(string.punctuation), '', text)\n",
    "    text = re.sub('\\n', '', text)\n",
    "    text = re.sub('\\w*\\d\\w*', '', text)\n",
    "    return text\n",
    "\n",
    "\n",
    "def text_preprocessing(text):\n",
    "    \"\"\"\n",
    "    Cleaning and parsing the text.\n",
    "\n",
    "    \"\"\"\n",
    "    tokenizer = nltk.tokenize.RegexpTokenizer(r'\\w+')\n",
    "    nopunc = clean_text(text)\n",
    "    tokenized_text = tokenizer.tokenize(nopunc)\n",
    "     #remove_stopwords = [w for w in tokenized_text if w not in stopwords.words('english')]\n",
    "    combined_text = ' '.join(tokenized_text)\n",
    "    return combined_text"
   ]
  },
  {
   "cell_type": "code",
   "execution_count": 59,
   "metadata": {},
   "outputs": [],
   "source": [
    "# Applying the cleaning function to data\n",
    "Covid_tweets['text_clean'] = Covid_tweets['text'].apply(str).apply(lambda x: text_preprocessing(x))"
   ]
  },
  {
   "cell_type": "code",
   "execution_count": 60,
   "metadata": {},
   "outputs": [],
   "source": [
    "def get_top_n_words(corpus, n=None):\n",
    "    \"\"\"\n",
    "    List the top n words in a vocabulary according to occurrence in a text corpus.\n",
    "    \"\"\"\n",
    "    vec = CountVectorizer(stop_words = 'english').fit(corpus)\n",
    "    bag_of_words = vec.transform(corpus)\n",
    "    sum_words = bag_of_words.sum(axis=0) \n",
    "    words_freq = [(word, sum_words[0, idx]) for word, idx in vec.vocabulary_.items()]\n",
    "    words_freq =sorted(words_freq, key = lambda x: x[1], reverse=True)\n",
    "    return words_freq[:n]"
   ]
  },
  {
   "cell_type": "code",
   "execution_count": 69,
   "metadata": {},
   "outputs": [
    {
     "data": {
      "image/png": "[encoded data removed]",
      "text/plain": [
       "<Figure size 648x648 with 2 Axes>"
      ]
     },
     "metadata": {
      "needs_background": "light"
     },
     "output_type": "display_data"
    }
   ],
   "source": [
    "plt.figure(figsize=(9,9))\n",
    "sns.heatmap(Covid_tweets.drop([\"is_retweet\",\"user_verified\"], axis = 1).corr(), annot=True)\n",
    "plt.show()\n"
   ]
  },
  {
   "cell_type": "code",
   "execution_count": 71,
   "metadata": {},
   "outputs": [
    {
     "name": "stderr",
     "output_type": "stream",
     "text": [
      "[nltk_data] Downloading package vader_lexicon to C:\\Users\\Aparna\n",
      "[nltk_data]     Singh\\AppData\\Roaming\\nltk_data...\n",
      "[nltk_data]   Package vader_lexicon is already up-to-date!\n"
     ]
    }
   ],
   "source": [
    "nltk.download('vader_lexicon')\n",
    "sid = SentimentIntensityAnalyzer()\n",
    "\n",
    "def get_score(text):\n",
    "    dict_res = sid.polarity_scores(text)\n",
    "    return dict_res[\"compound\"]\n",
    "\n",
    "Covid_tweets[\"Score\"] = Covid_tweets[\"text_clean\"].apply(lambda x: get_score(x)) "
   ]
  },
  {
   "cell_type": "code",
   "execution_count": 72,
   "metadata": {},
   "outputs": [
    {
     "data": {
      "image/png": "[encoded data removed]",
      "text/plain": [
       "<Figure size 1440x648 with 1 Axes>"
      ]
     },
     "metadata": {
      "needs_background": "light"
     },
     "output_type": "display_data"
    }
   ],
   "source": [
    "Covid_tweets['date'] = pd.to_datetime(Covid_tweets['date'])\n",
    "dates = np.array(Covid_tweets['date'])\n",
    "indices = np.argsort(dates)[10000:]\n",
    "window = 750\n",
    "\n",
    "dates = dates[indices][window:]\n",
    "values = np.array(Covid_tweets['Score'])[indices]\n",
    "windows = pd.Series(values).rolling(window)\n",
    "moving_averages = windows.mean()[window:]\n",
    "\n",
    "plt.figure(figsize=(20,9))\n",
    "plt.plot(dates, moving_averages, color='blue', label='Average Sentiment')\n",
    "plt.title('Analysis of Tweets')\n",
    "plt.xlabel('Date')\n",
    "plt.ylabel('Sentiment Score')\n",
    "plt.legend();"
   ]
  },
  {
   "cell_type": "code",
   "execution_count": 74,
   "metadata": {},
   "outputs": [
    {
     "data": {
      "text/plain": [
       "count    97710.000000\n",
       "mean         0.053371\n",
       "std          0.404406\n",
       "min         -0.985800\n",
       "25%         -0.151100\n",
       "50%          0.000000\n",
       "75%          0.381800\n",
       "max          0.975000\n",
       "Name: Score, dtype: float64"
      ]
     },
     "execution_count": 74,
     "metadata": {},
     "output_type": "execute_result"
    }
   ],
   "source": [
    "Covid_tweets[\"Score\"].describe()"
   ]
  },
  {
   "cell_type": "code",
   "execution_count": 75,
   "metadata": {},
   "outputs": [],
   "source": [
    "Covid_tweets[\"Weekday\"] = [datetime.weekday(date) for date in Covid_tweets[\"date\"]]\n",
    "\n",
    "def is_weekend(weekno):\n",
    "    if weekno<5:\n",
    "        return \"Weekday\"\n",
    "    else:\n",
    "        return \"Weekend\"\n",
    "    \n",
    "Covid_tweets[\"weekend_or_weekday\"] = Covid_tweets[\"Weekday\"].apply(lambda x: is_weekend(x))"
   ]
  },
  {
   "cell_type": "code",
   "execution_count": 76,
   "metadata": {},
   "outputs": [
    {
     "data": {
      "image/png": "[encoded data removed]",
      "text/plain": [
       "<Figure size 432x288 with 1 Axes>"
      ]
     },
     "metadata": {
      "needs_background": "light"
     },
     "output_type": "display_data"
    }
   ],
   "source": [
    "sns.barplot(Covid_tweets[\"Score\"],Covid_tweets[\"weekend_or_weekday\"])\n",
    "plt.title(\"Weekend vs Weekday\");"
   ]
  },
  {
   "cell_type": "code",
   "execution_count": 79,
   "metadata": {},
   "outputs": [
    {
     "data": {
      "image/png": "[encoded data removed]",
      "text/plain": [
       "<Figure size 1440x720 with 1 Axes>"
      ]
     },
     "metadata": {
      "needs_background": "light"
     },
     "output_type": "display_data"
    }
   ],
   "source": [
    "sentiment_countries = pd.DataFrame()\n",
    "sentiment_countries[\"Score\"] = Covid_tweets[\"Score\"]\n",
    "sentiment_countries[\"user_location\"] = Covid_tweets[\"user_location\"]\n",
    "\n",
    "sentiment_countries = sentiment_countries.sort_values(by = \"Score\",ascending=False)\n",
    "sentiment_countries = sentiment_countries.groupby(\"user_location\").sum().sort_values(by = \"Score\",ascending=False)[:10]\n",
    "\n",
    "plt.figure(figsize=(20,10))\n",
    "sns.barplot(list(sentiment_countries.values.flatten()),sentiment_countries.index,)\n",
    "plt.title(\"Top 20 Location By Positive Score\")\n",
    "plt.xlabel(\"Sentiment Score\")\n",
    "plt.ylabel(\"Location\")\n",
    "plt.show()"
   ]
  },
  {
   "cell_type": "code",
   "execution_count": null,
   "metadata": {},
   "outputs": [],
   "source": []
  }
 ],
 "metadata": {
  "kernelspec": {
   "display_name": "Python 3",
   "language": "python",
   "name": "python3"
  },
  "language_info": {
   "codemirror_mode": {
    "name": "ipython",
    "version": 3
   },
   "file_extension": ".py",
   "mimetype": "text/x-python",
   "name": "python",
   "nbconvert_exporter": "python",
   "pygments_lexer": "ipython3",
   "version": "3.7.6"
  }
 },
 "nbformat": 4,
 "nbformat_minor": 4
}
